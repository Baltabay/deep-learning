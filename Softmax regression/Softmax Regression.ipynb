{
 "cells": [
  {
   "cell_type": "code",
   "execution_count": 1,
   "metadata": {},
   "outputs": [],
   "source": [
    "%matplotlib inline\n",
    "import matplotlib.pyplot as plt\n",
    "import numpy as np\n",
    "from io import BytesIO\n",
    "from mlxtend.data import iris_data\n",
    "from mlxtend.plotting import plot_decision_regions\n",
    "\n",
    "import torch\n",
    "import torch.nn.functional as F"
   ]
  },
  {
   "cell_type": "code",
   "execution_count": 3,
   "metadata": {},
   "outputs": [],
   "source": [
    "def one_hot(x, class_count):\n",
    "    return torch.eye(class_count)[x,:]"
   ]
  },
  {
   "cell_type": "code",
   "execution_count": 14,
   "metadata": {},
   "outputs": [],
   "source": [
    "def cross_entropy(output, y_target):\n",
    "    return - torch.sum(torch.log(output) * (y_target), dim=1)"
   ]
  },
  {
   "cell_type": "code",
   "execution_count": 15,
   "metadata": {},
   "outputs": [],
   "source": [
    "def cost(output, y_target):\n",
    "    return torch.mean(cross_entropy(output, y_target))"
   ]
  },
  {
   "cell_type": "code",
   "execution_count": 16,
   "metadata": {},
   "outputs": [],
   "source": [
    "def net_input(X, W, b):\n",
    "    return (X.mm(W) + b)"
   ]
  },
  {
   "cell_type": "code",
   "execution_count": 4,
   "metadata": {},
   "outputs": [
    {
     "name": "stdout",
     "output_type": "stream",
     "text": [
      "tensor([[1., 0., 0.],\n",
      "        [0., 1., 0.],\n",
      "        [0., 0., 1.],\n",
      "        [0., 0., 1.]])\n",
      "tensor([[ 0.1000,  0.5000],\n",
      "        [ 1.1000,  2.3000],\n",
      "        [-1.1000, -2.3000],\n",
      "        [-1.5000, -2.5000]])\n",
      "tensor([[0.1000, 0.2000, 0.3000],\n",
      "        [0.1000, 0.2000, 0.3000]])\n",
      "tensor([0.0100, 0.1000, 0.1000])\n"
     ]
    }
   ],
   "source": [
    "y = torch.tensor([0, 1, 2, 2]) \n",
    "y_enc = one_hot(y, 3)\n",
    "\n",
    "X = torch.tensor([[0.1, 0.5],\n",
    "              [1.1, 2.3],\n",
    "              [-1.1, -2.3],\n",
    "              [-1.5, -2.5]])\n",
    "\n",
    "W = torch.tensor([[0.1, 0.2, 0.3],\n",
    "              [0.1, 0.2, 0.3]])\n",
    "\n",
    "bias = torch.tensor([0.01, 0.1, 0.1])\n",
    "\n",
    "print(y_enc)\n",
    "print(X)\n",
    "print(W)\n",
    "print(bias)"
   ]
  },
  {
   "cell_type": "code",
   "execution_count": 20,
   "metadata": {},
   "outputs": [],
   "source": [
    "device = torch.device('cuda:0' if torch.cuda.is_available() else 'cpu')\n",
    "\n",
    "class SoftmaxRegression:\n",
    "    def __init__(self, num_features, num_classes):\n",
    "        self.num_features = num_features\n",
    "        self.num_classes = num_classes\n",
    "        self.weights = torch.zeros(num_features, num_classes, dtype=torch.float32)\n",
    "        self.bias = torch.zeros(num_classes, dtype=torch.float32)\n",
    "        \n",
    "    \n",
    "    def forward(self, x):\n",
    "        z = torch.mm(x, self.weights) + self.bias\n",
    "        a = F.softmax(z)\n",
    "        return a\n",
    "    \n",
    "    def one_hot(self, x, class_count):\n",
    "        return torch.eye(class_count)[x,:]\n",
    "    \n",
    "    def cross_entropy(self, output, y_target):\n",
    "        return - torch.sum(torch.log(output) * (y_target), dim=1)\n",
    "    \n",
    "    def cost_function(self, output, y_target):\n",
    "        return torch.mean(self.cross_entropy(output, y_target))\n",
    "    \n",
    "    def forward(self, x):\n",
    "        z = torch.mm(x, self.weights) + self.bias\n",
    "        a = F.softmax(z)\n",
    "        return a\n",
    "    \n",
    "    def train(self, x, y, num_epochs, learning_rate=0.01):\n",
    "        costs = []\n",
    "        \n",
    "        y_enc = self.one_hot(y, self.num_classes)\n",
    "        \n",
    "        for e in range(num_epochs):\n",
    "            \n",
    "            a = self.forward(x)\n",
    "            \n",
    "            dz = a - y_enc\n",
    "            dw = torch.mm(x.transpose(0, 1), dz)\n",
    "            db = torch.sum(dz, dim=0)\n",
    "            \n",
    "            self.weights -= learning_rate * dw\n",
    "            self.bias -= learning_rate * db\n",
    "            \n",
    "            cost = self.cost_function(self.forward(x), y_enc)\n",
    "            costs.append(cost)\n",
    "        \n",
    "        costs = np.squeeze(costs)\n",
    "        plt.plot(costs)\n",
    "        plt.ylabel('cost')\n",
    "        plt.xlabel('iterations (per hundreds)')\n",
    "        plt.title(\"Learning rate =\" + str(learning_rate))\n",
    "        plt.show()\n"
   ]
  },
  {
   "cell_type": "code",
   "execution_count": 21,
   "metadata": {},
   "outputs": [],
   "source": [
    "model = SoftmaxRegression(num_features=2, num_classes=3)"
   ]
  },
  {
   "cell_type": "code",
   "execution_count": 22,
   "metadata": {},
   "outputs": [
    {
     "name": "stderr",
     "output_type": "stream",
     "text": [
      "C:\\Users\\hp\\Miniconda3\\lib\\site-packages\\ipykernel_launcher.py:27: UserWarning: Implicit dimension choice for softmax has been deprecated. Change the call to include dim=X as an argument.\n"
     ]
    },
    {
     "data": {
      "image/png": "[encoded data removed]",
      "text/plain": [
       "<Figure size 432x288 with 1 Axes>"
      ]
     },
     "metadata": {
      "needs_background": "light"
     },
     "output_type": "display_data"
    }
   ],
   "source": [
    "model.train(X, y, num_epochs=10, learning_rate=0.1)"
   ]
  },
  {
   "cell_type": "code",
   "execution_count": null,
   "metadata": {},
   "outputs": [],
   "source": []
  }
 ],
 "metadata": {
  "kernelspec": {
   "display_name": "Python 3",
   "language": "python",
   "name": "python3"
  },
  "language_info": {
   "codemirror_mode": {
    "name": "ipython",
    "version": 3
   },
   "file_extension": ".py",
   "mimetype": "text/x-python",
   "name": "python",
   "nbconvert_exporter": "python",
   "pygments_lexer": "ipython3",
   "version": "3.6.8"
  }
 },
 "nbformat": 4,
 "nbformat_minor": 2
}
