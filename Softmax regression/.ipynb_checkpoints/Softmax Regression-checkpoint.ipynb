{
 "cells": [
  {
   "cell_type": "code",
   "execution_count": 100,
   "metadata": {},
   "outputs": [],
   "source": [
    "%matplotlib inline\n",
    "import matplotlib.pyplot as plt\n",
    "import numpy as np\n",
    "from io import BytesIO\n",
    "from mlxtend.data import iris_data\n",
    "from mlxtend.plotting import plot_decision_regions\n",
    "\n",
    "import torch\n",
    "import torch.nn.functional as F"
   ]
  },
  {
   "cell_type": "code",
   "execution_count": 101,
   "metadata": {},
   "outputs": [],
   "source": [
    "X, y = iris_data()\n",
    "X = X[:, [0, 3]]\n",
    "\n",
    "# standardize\n",
    "X[:,0] = (X[:,0] - X[:,0].mean()) / X[:,0].std()\n",
    "X[:,1] = (X[:,1] - X[:,1].mean()) / X[:,1].std()\n",
    "\n",
    "X_tensor = torch.tensor(X.tolist())\n",
    "y_tensor = torch.tensor(y.tolist())"
   ]
  },
  {
   "cell_type": "code",
   "execution_count": 102,
   "metadata": {},
   "outputs": [],
   "source": [
    "# X = torch.tensor([[0.1, 0.5],\n",
    "#               [1.1, 2.3],\n",
    "#               [-1.1, -2.3],\n",
    "#               [-1.5, -2.5]])\n",
    "\n",
    "# y = torch.tensor([0, 1, 2, 2])"
   ]
  },
  {
   "cell_type": "code",
   "execution_count": 103,
   "metadata": {},
   "outputs": [],
   "source": [
    "device = torch.device('cuda:0' if torch.cuda.is_available() else 'cpu')\n",
    "\n",
    "class SoftmaxRegression:\n",
    "    def __init__(self, num_features, num_classes):\n",
    "        self.num_features = num_features\n",
    "        self.num_classes = num_classes\n",
    "        self.weights = torch.zeros(num_features, num_classes, dtype=torch.float32)\n",
    "        self.bias = torch.zeros(num_classes, dtype=torch.float32)\n",
    "        \n",
    "    \n",
    "    def forward(self, x):\n",
    "        z = torch.mm(x, self.weights) + self.bias\n",
    "        a = self.softmax(z)\n",
    "        return a\n",
    "    \n",
    "    def predict(self, x):\n",
    "        z = torch.mm(x, self.weights) + self.bias\n",
    "        a = self.softmax(z)\n",
    "        return (a.max(1)[1]).tolist()\n",
    "        \n",
    "    def cost_function(self, output, y_target):\n",
    "        return torch.mean(-torch.sum(torch.log(output) * (y_target), dim=1))\n",
    "    \n",
    "    def train(self, x, y, num_epochs, learning_rate=0.01):\n",
    "        costs = []\n",
    "        mse = 0\n",
    "        \n",
    "        y_enc = self.one_hot(y, self.num_classes)\n",
    "        \n",
    "        for e in range(num_epochs):\n",
    "            \n",
    "            a = self.forward(x)\n",
    "            \n",
    "            dz = a - y_enc\n",
    "            dw = torch.mm(x.transpose(0, 1), dz)\n",
    "            db = torch.sum(dz, dim=0)\n",
    "            mse = torch.mean(dz, dim=0)\n",
    "            \n",
    "            self.weights -= learning_rate * dw\n",
    "            self.bias -= learning_rate * db\n",
    "            \n",
    "            cost = self.cost_function(self.forward(x), y_enc)\n",
    "            costs.append(cost)\n",
    "        \n",
    "        costs = np.squeeze(costs)\n",
    "        plt.plot(costs)\n",
    "        plt.ylabel('cost')\n",
    "        plt.xlabel('iterations (per hundreds)')\n",
    "        plt.title(\"Learning rate =\" + str(learning_rate))\n",
    "        plt.show()\n",
    "\n",
    "    \n",
    "    def one_hot(self, x, class_count):\n",
    "        return torch.eye(class_count)[x,:]\n",
    "    \n",
    "    def softmax(self, z):\n",
    "        return (torch.exp(z.transpose(0, 1)) / torch.sum(torch.exp(z), dim=1)).transpose(0, 1)\n",
    "    "
   ]
  },
  {
   "cell_type": "code",
   "execution_count": 104,
   "metadata": {},
   "outputs": [],
   "source": [
    "model = SoftmaxRegression(num_features=2, num_classes=3)"
   ]
  },
  {
   "cell_type": "code",
   "execution_count": 108,
   "metadata": {},
   "outputs": [
    {
     "data": {
      "image/png": "[encoded data removed]",
      "text/plain": [
       "<Figure size 432x288 with 1 Axes>"
      ]
     },
     "metadata": {
      "needs_background": "light"
     },
     "output_type": "display_data"
    }
   ],
   "source": [
    "model.train(X_tensor, y_tensor, num_epochs=800, learning_rate=0.01)"
   ]
  },
  {
   "cell_type": "code",
   "execution_count": 109,
   "metadata": {},
   "outputs": [],
   "source": [
    "y_pred = model.predict(X_tensor);"
   ]
  },
  {
   "cell_type": "code",
   "execution_count": 110,
   "metadata": {},
   "outputs": [
    {
     "name": "stdout",
     "output_type": "stream",
     "text": [
      "              precision    recall  f1-score   support\n",
      "\n",
      "           0       1.00      1.00      1.00        50\n",
      "           1       0.92      0.96      0.94        50\n",
      "           2       0.96      0.92      0.94        50\n",
      "\n",
      "    accuracy                           0.96       150\n",
      "   macro avg       0.96      0.96      0.96       150\n",
      "weighted avg       0.96      0.96      0.96       150\n",
      "\n"
     ]
    }
   ],
   "source": [
    "from sklearn.metrics import classification_report\n",
    "print(classification_report(y, y_pred))"
   ]
  },
  {
   "cell_type": "code",
   "execution_count": null,
   "metadata": {},
   "outputs": [],
   "source": []
  }
 ],
 "metadata": {
  "kernelspec": {
   "display_name": "Python 3",
   "language": "python",
   "name": "python3"
  },
  "language_info": {
   "codemirror_mode": {
    "name": "ipython",
    "version": 3
   },
   "file_extension": ".py",
   "mimetype": "text/x-python",
   "name": "python",
   "nbconvert_exporter": "python",
   "pygments_lexer": "ipython3",
   "version": "3.6.8"
  }
 },
 "nbformat": 4,
 "nbformat_minor": 2
}
